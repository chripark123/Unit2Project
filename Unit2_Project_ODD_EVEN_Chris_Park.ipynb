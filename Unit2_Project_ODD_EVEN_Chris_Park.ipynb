{
  "nbformat": 4,
  "nbformat_minor": 0,
  "metadata": {
    "colab": {
      "provenance": [],
      "authorship_tag": "ABX9TyN0oIMu9o6u8yw/p+F6mAr8",
      "include_colab_link": true
    },
    "kernelspec": {
      "name": "python3",
      "display_name": "Python 3"
    },
    "language_info": {
      "name": "python"
    }
  },
  "cells": [
    {
      "cell_type": "markdown",
      "metadata": {
        "id": "view-in-github",
        "colab_type": "text"
      },
      "source": [
        "<a href=\"https://colab.research.google.com/github/chripark123/Unit2Project/blob/main/Unit2_Project_ODD_EVEN_Chris_Park.ipynb\" target=\"_parent\"><img src=\"https://colab.research.google.com/assets/colab-badge.svg\" alt=\"Open In Colab\"/></a>"
      ]
    },
    {
      "cell_type": "markdown",
      "source": [
        "Ask the user for a number. Depending on whether the number is even or odd,\n",
        "print out an appropriate message to the user. Hint: how does an even / odd\n",
        "number react differently when divided by 2?\n",
        "Extras:\n",
        "1. If the number is a multiple of 4, print out a different message.\n",
        "2. Ask the user for two numbers: one number to check (call it num) and one\n",
        "number to divide by (check). If check divides evenly into num, tell that to the\n",
        "user. If not, print a different appropriate message."
      ],
      "metadata": {
        "id": "iPFH25Me4uvX"
      }
    },
    {
      "cell_type": "code",
      "execution_count": 8,
      "metadata": {
        "colab": {
          "base_uri": "https://localhost:8080/"
        },
        "id": "HpxLe9cgxhqy",
        "outputId": "b0a443a6-2c51-44b8-ed92-e79e08f54e74"
      },
      "outputs": [
        {
          "output_type": "stream",
          "name": "stdout",
          "text": [
            "Please enter a number = 324\n",
            "324 is an Even Number\n",
            "324 is a multiple of 4\n",
            "Please enter a number to check = 324\n",
            "Please enter a number to divide by = 2\n",
            "324 divides evenly into 2\n"
          ]
        }
      ],
      "source": [
        "number = input(\"Please enter a number = \")\n",
        "if int(number) % 2 == 0 :\n",
        "  print(str(number) + \" is an Even Number\")\n",
        "else:\n",
        "  print(str(number) + \" is an Odd Number\")\n",
        "if int(number) % 4 ==0 :\n",
        "  print(str(number) + \" is a multiple of 4\")\n",
        "\n",
        "num = input(\"Please enter a number to check = \")\n",
        "check = input(\"Please enter a number to divide by = \")\n",
        "if int(num) % int(check) == 0 :\n",
        "  print(str(num) + \" divides evenly into \" + str(check))\n",
        "else:\n",
        "  print(str(num) + \" does not divide evenly into \" + str(check));"
      ]
    },
    {
      "cell_type": "code",
      "source": [],
      "metadata": {
        "id": "jdCU2myp5GbM"
      },
      "execution_count": null,
      "outputs": []
    }
  ]
}